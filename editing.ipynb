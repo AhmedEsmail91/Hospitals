{
 "cells": [
  {
   "cell_type": "code",
   "execution_count": 1,
   "metadata": {},
   "outputs": [],
   "source": [
    "import sqlite3"
   ]
  },
  {
   "cell_type": "code",
   "execution_count": 2,
   "metadata": {},
   "outputs": [],
   "source": [
    "import mysql.connector\n",
    "from mysql.connector import Error\n",
    "\n",
    "class DBM:\n",
    "    def __init__(self, host, database, user, password):\n",
    "        self.host = host\n",
    "        self.database = database\n",
    "        self.user = user\n",
    "        self.password = password\n",
    "        self.connection = None\n",
    "\n",
    "    def connect(self):\n",
    "        \"\"\"Establish a connection to the database.\"\"\"\n",
    "        try:\n",
    "            self.connection = mysql.connector.connect(\n",
    "                host=self.host,\n",
    "                database=self.database,\n",
    "                user=self.user,\n",
    "                password=self.password\n",
    "            )\n",
    "            if self.connection.is_connected():\n",
    "                print(f\"Connected to database: {self.database}\")\n",
    "        except Error as e:\n",
    "            print(f\"Error while connecting to MySQL: {e}\")\n",
    "\n",
    "    def disconnect(self):\n",
    "        \"\"\"Close the connection to the database.\"\"\"\n",
    "        if self.connection.is_connected():\n",
    "            self.connection.close()\n",
    "            print(\"MySQL connection is closed\")\n",
    "\n",
    "    def execute_query(self, query, params=None):\n",
    "        \"\"\"Execute a single query.\"\"\"\n",
    "        cursor = self.connection.cursor()\n",
    "        try:\n",
    "            cursor.execute(query, params)\n",
    "            self.connection.commit()\n",
    "            print(\"Query executed successfully\")\n",
    "        except Error as e:\n",
    "            print(f\"Error: '{e}'\")\n",
    "        finally:\n",
    "            cursor.close()\n",
    "\n",
    "    def fetch_all(self, query, params=None):\n",
    "        \"\"\"Fetch all rows from the result of a query.\"\"\"\n",
    "        cursor = self.connection.cursor()\n",
    "        result = None\n",
    "        try:\n",
    "            cursor.execute(query, params)\n",
    "            result = cursor.fetchall()\n",
    "        except Error as e:\n",
    "            print(f\"Error: '{e}'\")\n",
    "        finally:\n",
    "            cursor.close()\n",
    "        return result\n",
    "\n",
    "    def fetch_one(self, query, params=None):\n",
    "        \"\"\"Fetch a single row from the result of a query.\"\"\"\n",
    "        cursor = self.connection.cursor()\n",
    "        result = None\n",
    "        try:\n",
    "            cursor.execute(query, params)\n",
    "            result = cursor.fetchone()\n",
    "        except Error as e:\n",
    "            print(f\"Error: '{e}'\")\n",
    "        finally:\n",
    "            cursor.close()\n",
    "        return result\n",
    "\n"
   ]
  },
  {
   "cell_type": "code",
   "execution_count": 27,
   "metadata": {},
   "outputs": [
    {
     "name": "stdout",
     "output_type": "stream",
     "text": [
      "Connected to database: hospitals_db\n"
     ]
    }
   ],
   "source": [
    "\n",
    "dbm = DBM(host='127.0.0.1', database='hospitals_db', user='root', password='')\n",
    "dbm.connect()\n",
    "\n",
    "# Example usage\n",
    "create_table_query = \"\"\"\n",
    "CREATE TABLE IF NOT EXISTS patients (\n",
    "    id INT AUTO_INCREMENT PRIMARY KEY,\n",
    "    name VARCHAR(255) NOT NULL,\n",
    "    age INT,\n",
    "    gender ENUM('M', 'F') NOT NULL,\n",
    "    admission_date DATE\n",
    ")\n",
    "\"\"\"\n",
    "# dbm.execute_query(create_table_query)\n",
    "\n",
    "insert_query = \"\"\"\n",
    "INSERT INTO doctor_translations (locale,name, appointments,doctor_id)\n",
    "VALUES (%s, %s, %s,%s)\n",
    "\"\"\"\n",
    "# dbm.execute_query(insert_query, ('John Doe', 30, 'M', '2023-01-01'))\n",
    "import numpy as np\n",
    "select_query = \"SELECT * FROM doctor_translations\"\n",
    "rows = dbm.fetch_all(select_query)\n",
    "import pandas as pd\n",
    "df=pd.DataFrame(np.array(rows))"
   ]
  },
  {
   "cell_type": "code",
   "execution_count": 4,
   "metadata": {},
   "outputs": [],
   "source": [
    "df=df.iloc[:,1:]\n"
   ]
  },
  {
   "cell_type": "code",
   "execution_count": 5,
   "metadata": {},
   "outputs": [],
   "source": [
    "df.columns=['locale','name','appointment','doctor_id']"
   ]
  },
  {
   "cell_type": "code",
   "execution_count": 6,
   "metadata": {},
   "outputs": [],
   "source": [
    "df.locale='en'"
   ]
  },
  {
   "cell_type": "code",
   "execution_count": 7,
   "metadata": {},
   "outputs": [],
   "source": [
    "days=df.appointment.unique().tolist()\n",
    "days.sort()\n",
    "days_ar=days"
   ]
  },
  {
   "cell_type": "code",
   "execution_count": 8,
   "metadata": {},
   "outputs": [],
   "source": [
    "days_en=['Monday', 'Sunday', 'Wednesday', 'Tuesday' ,'Thursday', 'Friday', 'Saturday']\n",
    "\n",
    "    "
   ]
  },
  {
   "cell_type": "code",
   "execution_count": 11,
   "metadata": {},
   "outputs": [
    {
     "name": "stderr",
     "output_type": "stream",
     "text": [
      "C:\\Users\\engah\\AppData\\Local\\Temp\\ipykernel_22852\\150857227.py:4: FutureWarning: A value is trying to be set on a copy of a DataFrame or Series through chained assignment using an inplace method.\n",
      "The behavior will change in pandas 3.0. This inplace method will never work because the intermediate object on which we are setting values always behaves as a copy.\n",
      "\n",
      "For example, when doing 'df[col].method(value, inplace=True)', try using 'df.method({col: value}, inplace=True)' or df[col] = df[col].method(value) instead, to perform the operation inplace on the original object.\n",
      "\n",
      "\n",
      "  df_en.appointment.replace(days_ar,days_en,inplace=True)\n"
     ]
    }
   ],
   "source": [
    "# for each record in the df.appointment replace the value with the corresponding value in days_en\n",
    "\n",
    "df_en=df.copy()\n",
    "df_en.appointment.replace(days_ar,days_en,inplace=True)"
   ]
  },
  {
   "cell_type": "code",
   "execution_count": 28,
   "metadata": {},
   "outputs": [
    {
     "name": "stdout",
     "output_type": "stream",
     "text": [
      "Query executed successfully\n",
      "Query executed successfully\n",
      "Query executed successfully\n",
      "Query executed successfully\n",
      "Query executed successfully\n",
      "Query executed successfully\n",
      "Query executed successfully\n",
      "Query executed successfully\n",
      "Query executed successfully\n",
      "Query executed successfully\n",
      "Query executed successfully\n",
      "Query executed successfully\n",
      "Query executed successfully\n",
      "Query executed successfully\n",
      "Query executed successfully\n",
      "Query executed successfully\n",
      "Query executed successfully\n",
      "Query executed successfully\n",
      "Query executed successfully\n",
      "Query executed successfully\n",
      "Query executed successfully\n",
      "Query executed successfully\n",
      "Query executed successfully\n",
      "Query executed successfully\n",
      "Query executed successfully\n",
      "Query executed successfully\n",
      "Query executed successfully\n",
      "Query executed successfully\n",
      "Query executed successfully\n",
      "Query executed successfully\n"
     ]
    }
   ],
   "source": [
    "for x in df_en.values:\n",
    "    dbm.execute_query(insert_query, (x[0], x[1], x[2],x[3]))"
   ]
  }
 ],
 "metadata": {
  "kernelspec": {
   "display_name": "Python 3",
   "language": "python",
   "name": "python3"
  },
  "language_info": {
   "codemirror_mode": {
    "name": "ipython",
    "version": 3
   },
   "file_extension": ".py",
   "mimetype": "text/x-python",
   "name": "python",
   "nbconvert_exporter": "python",
   "pygments_lexer": "ipython3",
   "version": "3.12.3"
  }
 },
 "nbformat": 4,
 "nbformat_minor": 2
}
